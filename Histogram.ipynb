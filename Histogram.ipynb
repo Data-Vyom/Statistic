{
 "cells": [
  {
   "cell_type": "markdown",
   "metadata": {},
   "source": [
    "# Histogram \n",
    "\n",
    "Description:\n",
    "This file contaisn behavior data for two years from a large multi-category online store.\n",
    "Each row in the file represents an purchase with Account details. \n",
    "\n",
    "Task: Analysize purchase patterns.\n"
   ]
  },
  {
   "cell_type": "markdown",
   "metadata": {},
   "source": [
    "Solution:\n",
    "\n",
    "Histograms are used to represent data given in form of some groups. X-axis is about bin ranges where Y-axis talks about frequency. So, if you want to represent purchase wise population in form of graph then histogram suits well as it tells you how many exists in certain group range or bin, if you talk in context of histograms.\n",
    "\n",
    "Python has few in-built libraries for creating graphs, and one such library is matplotlib. So without any further ado, let's get started.\n",
    "\n",
    "First we are going to import pandas and matplot lib. \n",
    "    "
   ]
  },
  {
   "cell_type": "code",
   "execution_count": 1,
   "metadata": {},
   "outputs": [],
   "source": [
    "import pandas as pd\n",
    "import matplotlib.pyplot as plt\n",
    "%matplotlib inline"
   ]
  },
  {
   "cell_type": "markdown",
   "metadata": {},
   "source": [
    "Next, we will read from csv and get a summary of how it looks."
   ]
  },
  {
   "cell_type": "code",
   "execution_count": 2,
   "metadata": {},
   "outputs": [],
   "source": [
    "df= pd.read_csv(\"E:\\DataVyom\\Project\\Histogram\\sample-sales.csv\")"
   ]
  },
  {
   "cell_type": "code",
   "execution_count": 3,
   "metadata": {},
   "outputs": [
    {
     "data": {
      "text/plain": [
       "(1000, 8)"
      ]
     },
     "execution_count": 3,
     "metadata": {},
     "output_type": "execute_result"
    }
   ],
   "source": [
    "df.shape"
   ]
  },
  {
   "cell_type": "code",
   "execution_count": 4,
   "metadata": {},
   "outputs": [
    {
     "data": {
      "text/html": [
       "<div>\n",
       "<style scoped>\n",
       "    .dataframe tbody tr th:only-of-type {\n",
       "        vertical-align: middle;\n",
       "    }\n",
       "\n",
       "    .dataframe tbody tr th {\n",
       "        vertical-align: top;\n",
       "    }\n",
       "\n",
       "    .dataframe thead th {\n",
       "        text-align: right;\n",
       "    }\n",
       "</style>\n",
       "<table border=\"1\" class=\"dataframe\">\n",
       "  <thead>\n",
       "    <tr style=\"text-align: right;\">\n",
       "      <th></th>\n",
       "      <th>Account Number</th>\n",
       "      <th>Account Name</th>\n",
       "      <th>sku</th>\n",
       "      <th>category</th>\n",
       "      <th>quantity</th>\n",
       "      <th>unit price</th>\n",
       "      <th>ext price</th>\n",
       "      <th>date</th>\n",
       "    </tr>\n",
       "  </thead>\n",
       "  <tbody>\n",
       "    <tr>\n",
       "      <td>0</td>\n",
       "      <td>803666</td>\n",
       "      <td>Fritsch-Glover</td>\n",
       "      <td>HX-24728</td>\n",
       "      <td>Belt</td>\n",
       "      <td>1</td>\n",
       "      <td>98.98</td>\n",
       "      <td>98.98</td>\n",
       "      <td>2014-09-28 11:56:02</td>\n",
       "    </tr>\n",
       "    <tr>\n",
       "      <td>1</td>\n",
       "      <td>64898</td>\n",
       "      <td>O'Conner Inc</td>\n",
       "      <td>LK-02338</td>\n",
       "      <td>Shirt</td>\n",
       "      <td>9</td>\n",
       "      <td>34.80</td>\n",
       "      <td>313.20</td>\n",
       "      <td>2014-04-24 16:51:22</td>\n",
       "    </tr>\n",
       "    <tr>\n",
       "      <td>2</td>\n",
       "      <td>423621</td>\n",
       "      <td>Beatty and Sons</td>\n",
       "      <td>ZC-07383</td>\n",
       "      <td>Shirt</td>\n",
       "      <td>12</td>\n",
       "      <td>60.24</td>\n",
       "      <td>722.88</td>\n",
       "      <td>2014-09-17 17:26:22</td>\n",
       "    </tr>\n",
       "    <tr>\n",
       "      <td>3</td>\n",
       "      <td>137865</td>\n",
       "      <td>Gleason, Bogisich and Franecki</td>\n",
       "      <td>QS-76400</td>\n",
       "      <td>Shirt</td>\n",
       "      <td>5</td>\n",
       "      <td>15.25</td>\n",
       "      <td>76.25</td>\n",
       "      <td>2014-01-30 07:34:02</td>\n",
       "    </tr>\n",
       "    <tr>\n",
       "      <td>4</td>\n",
       "      <td>435433</td>\n",
       "      <td>Morissette-Heathcote</td>\n",
       "      <td>RU-25060</td>\n",
       "      <td>Shirt</td>\n",
       "      <td>19</td>\n",
       "      <td>51.83</td>\n",
       "      <td>984.77</td>\n",
       "      <td>2014-08-24 06:18:12</td>\n",
       "    </tr>\n",
       "  </tbody>\n",
       "</table>\n",
       "</div>"
      ],
      "text/plain": [
       "   Account Number                    Account Name       sku category  \\\n",
       "0          803666                  Fritsch-Glover  HX-24728     Belt   \n",
       "1           64898                    O'Conner Inc  LK-02338    Shirt   \n",
       "2          423621                 Beatty and Sons  ZC-07383    Shirt   \n",
       "3          137865  Gleason, Bogisich and Franecki  QS-76400    Shirt   \n",
       "4          435433            Morissette-Heathcote  RU-25060    Shirt   \n",
       "\n",
       "   quantity  unit price  ext price                 date  \n",
       "0         1       98.98      98.98  2014-09-28 11:56:02  \n",
       "1         9       34.80     313.20  2014-04-24 16:51:22  \n",
       "2        12       60.24     722.88  2014-09-17 17:26:22  \n",
       "3         5       15.25      76.25  2014-01-30 07:34:02  \n",
       "4        19       51.83     984.77  2014-08-24 06:18:12  "
      ]
     },
     "execution_count": 4,
     "metadata": {},
     "output_type": "execute_result"
    }
   ],
   "source": [
    "df.head()"
   ]
  },
  {
   "cell_type": "code",
   "execution_count": 5,
   "metadata": {},
   "outputs": [
    {
     "data": {
      "text/html": [
       "<div>\n",
       "<style scoped>\n",
       "    .dataframe tbody tr th:only-of-type {\n",
       "        vertical-align: middle;\n",
       "    }\n",
       "\n",
       "    .dataframe tbody tr th {\n",
       "        vertical-align: top;\n",
       "    }\n",
       "\n",
       "    .dataframe thead th {\n",
       "        text-align: right;\n",
       "    }\n",
       "</style>\n",
       "<table border=\"1\" class=\"dataframe\">\n",
       "  <thead>\n",
       "    <tr style=\"text-align: right;\">\n",
       "      <th></th>\n",
       "      <th>Account Number</th>\n",
       "      <th>quantity</th>\n",
       "      <th>unit price</th>\n",
       "      <th>ext price</th>\n",
       "    </tr>\n",
       "  </thead>\n",
       "  <tbody>\n",
       "    <tr>\n",
       "      <td>count</td>\n",
       "      <td>1000.000000</td>\n",
       "      <td>1000.000000</td>\n",
       "      <td>1000.000000</td>\n",
       "      <td>1000.000000</td>\n",
       "    </tr>\n",
       "    <tr>\n",
       "      <td>mean</td>\n",
       "      <td>480941.809000</td>\n",
       "      <td>10.565000</td>\n",
       "      <td>54.066430</td>\n",
       "      <td>570.179940</td>\n",
       "    </tr>\n",
       "    <tr>\n",
       "      <td>std</td>\n",
       "      <td>291330.331287</td>\n",
       "      <td>5.887311</td>\n",
       "      <td>26.068011</td>\n",
       "      <td>443.949007</td>\n",
       "    </tr>\n",
       "    <tr>\n",
       "      <td>min</td>\n",
       "      <td>510.000000</td>\n",
       "      <td>1.000000</td>\n",
       "      <td>10.010000</td>\n",
       "      <td>11.130000</td>\n",
       "    </tr>\n",
       "    <tr>\n",
       "      <td>25%</td>\n",
       "      <td>217002.750000</td>\n",
       "      <td>5.000000</td>\n",
       "      <td>31.187500</td>\n",
       "      <td>203.765000</td>\n",
       "    </tr>\n",
       "    <tr>\n",
       "      <td>50%</td>\n",
       "      <td>461305.000000</td>\n",
       "      <td>11.000000</td>\n",
       "      <td>53.240000</td>\n",
       "      <td>456.340000</td>\n",
       "    </tr>\n",
       "    <tr>\n",
       "      <td>75%</td>\n",
       "      <td>734587.000000</td>\n",
       "      <td>16.000000</td>\n",
       "      <td>75.100000</td>\n",
       "      <td>849.107500</td>\n",
       "    </tr>\n",
       "    <tr>\n",
       "      <td>max</td>\n",
       "      <td>998940.000000</td>\n",
       "      <td>20.000000</td>\n",
       "      <td>100.000000</td>\n",
       "      <td>1958.600000</td>\n",
       "    </tr>\n",
       "  </tbody>\n",
       "</table>\n",
       "</div>"
      ],
      "text/plain": [
       "       Account Number     quantity   unit price    ext price\n",
       "count     1000.000000  1000.000000  1000.000000  1000.000000\n",
       "mean    480941.809000    10.565000    54.066430   570.179940\n",
       "std     291330.331287     5.887311    26.068011   443.949007\n",
       "min        510.000000     1.000000    10.010000    11.130000\n",
       "25%     217002.750000     5.000000    31.187500   203.765000\n",
       "50%     461305.000000    11.000000    53.240000   456.340000\n",
       "75%     734587.000000    16.000000    75.100000   849.107500\n",
       "max     998940.000000    20.000000   100.000000  1958.600000"
      ]
     },
     "execution_count": 5,
     "metadata": {},
     "output_type": "execute_result"
    }
   ],
   "source": [
    "df.describe()"
   ]
  },
  {
   "cell_type": "markdown",
   "metadata": {},
   "source": [
    "We can tell that customers on average purchases 10.3 items per transaction\n",
    "The average cost of the transaction was $579.84\n",
    "\n",
    "\n",
    "Lets see how large the individual purchases are. A histogram allows us to group purchases together so we can see how big the customer transactions are."
   ]
  },
  {
   "cell_type": "code",
   "execution_count": 6,
   "metadata": {},
   "outputs": [
    {
     "data": {
      "text/html": [
       "<div>\n",
       "<style scoped>\n",
       "    .dataframe tbody tr th:only-of-type {\n",
       "        vertical-align: middle;\n",
       "    }\n",
       "\n",
       "    .dataframe tbody tr th {\n",
       "        vertical-align: top;\n",
       "    }\n",
       "\n",
       "    .dataframe thead th {\n",
       "        text-align: right;\n",
       "    }\n",
       "</style>\n",
       "<table border=\"1\" class=\"dataframe\">\n",
       "  <thead>\n",
       "    <tr style=\"text-align: right;\">\n",
       "      <th></th>\n",
       "      <th>ext price</th>\n",
       "      <th>date</th>\n",
       "    </tr>\n",
       "  </thead>\n",
       "  <tbody>\n",
       "    <tr>\n",
       "      <td>0</td>\n",
       "      <td>98.98</td>\n",
       "      <td>2014-09-28 11:56:02</td>\n",
       "    </tr>\n",
       "    <tr>\n",
       "      <td>1</td>\n",
       "      <td>313.20</td>\n",
       "      <td>2014-04-24 16:51:22</td>\n",
       "    </tr>\n",
       "    <tr>\n",
       "      <td>2</td>\n",
       "      <td>722.88</td>\n",
       "      <td>2014-09-17 17:26:22</td>\n",
       "    </tr>\n",
       "    <tr>\n",
       "      <td>3</td>\n",
       "      <td>76.25</td>\n",
       "      <td>2014-01-30 07:34:02</td>\n",
       "    </tr>\n",
       "    <tr>\n",
       "      <td>4</td>\n",
       "      <td>984.77</td>\n",
       "      <td>2014-08-24 06:18:12</td>\n",
       "    </tr>\n",
       "  </tbody>\n",
       "</table>\n",
       "</div>"
      ],
      "text/plain": [
       "   ext price                 date\n",
       "0      98.98  2014-09-28 11:56:02\n",
       "1     313.20  2014-04-24 16:51:22\n",
       "2     722.88  2014-09-17 17:26:22\n",
       "3      76.25  2014-01-30 07:34:02\n",
       "4     984.77  2014-08-24 06:18:12"
      ]
     },
     "execution_count": 6,
     "metadata": {},
     "output_type": "execute_result"
    }
   ],
   "source": [
    "patterns = df[['ext price','date']]\n",
    "patterns.head()"
   ]
  },
  {
   "cell_type": "markdown",
   "metadata": {},
   "source": [
    "We can create a histogram with 20 bins to show the distribution of purchasing patterns."
   ]
  },
  {
   "cell_type": "code",
   "execution_count": 7,
   "metadata": {},
   "outputs": [
    {
     "data": {
      "text/plain": [
       "Text(0, 0.5, 'Number of orders')"
      ]
     },
     "execution_count": 7,
     "metadata": {},
     "output_type": "execute_result"
    },
    {
     "data": {
      "image/png": "[encoded data removed]",
      "text/plain": [
       "<Figure size 432x288 with 1 Axes>"
      ]
     },
     "metadata": {
      "needs_background": "light"
     },
     "output_type": "display_data"
    }
   ],
   "source": [
    "plot = patterns['ext price'].hist(bins=20)\n",
    "plot.set_title(\"Purchase Patterns\")\n",
    "plot.set_xlabel(\"Order Amount\")\n",
    "plot.set_ylabel(\"Number of orders\")"
   ]
  },
  {
   "cell_type": "markdown",
   "metadata": {},
   "source": [
    "In the observeration, we can see that most of the transactions are less than $500 and only a very few are about $1500."
   ]
  },
  {
   "cell_type": "markdown",
   "metadata": {},
   "source": [
    "Reference: https://pbpython.com/simple-data-analysis.html\n",
    "        https://www.nbshare.io/notebook/204214467/How-to-Plot-a-Histogram-in-Python/\n",
    "            https://www.machinelearningplus.com/plots/matplotlib-histogram-python-examples/\n",
    "                \n",
    "                \n",
    "                https://pbpython.com/simple-graphing-pandas.html\n",
    "        \n",
    "        "
   ]
  },
  {
   "cell_type": "code",
   "execution_count": null,
   "metadata": {},
   "outputs": [],
   "source": []
  }
 ],
 "metadata": {
  "kernelspec": {
   "display_name": "Python 3",
   "language": "python",
   "name": "python3"
  },
  "language_info": {
   "codemirror_mode": {
    "name": "ipython",
    "version": 3
   },
   "file_extension": ".py",
   "mimetype": "text/x-python",
   "name": "python",
   "nbconvert_exporter": "python",
   "pygments_lexer": "ipython3",
   "version": "3.7.4"
  }
 },
 "nbformat": 4,
 "nbformat_minor": 2
}
