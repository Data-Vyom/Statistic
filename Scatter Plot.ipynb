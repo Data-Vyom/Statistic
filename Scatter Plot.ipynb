{
 "cells": [
  {
   "cell_type": "markdown",
   "metadata": {},
   "source": [
    "# Scatter Plot\n",
    "\n",
    "Description:\n",
    "\n",
    "Given the closing stock prices of Apple, Google and Bank of America on different dates for a period of 6 months.\n",
    "\n",
    "Task:\n",
    "\n",
    "Create a scatter plot with Apple and Google stock prices and with Apple and Bank of America stock prices. Also explore if there is a relationship between the two variables.\n",
    "\n",
    "Solution:\n",
    "\n",
    "Scatter Plots are usually used to represent the correlation between two or more variables. \n",
    "\n",
    "Let’s code. First we are going to import pandas and matplot lib.\n"
   ]
  },
  {
   "cell_type": "code",
   "execution_count": 9,
   "metadata": {},
   "outputs": [],
   "source": [
    "import pandas as pd\n",
    "import matplotlib.pyplot as plt\n",
    "%matplotlib inline"
   ]
  },
  {
   "cell_type": "code",
   "execution_count": 10,
   "metadata": {},
   "outputs": [],
   "source": [
    "df_share_prices= pd.read_csv('E:\\DataVyom\\Project\\Scatter Plot\\Data.csv')"
   ]
  },
  {
   "cell_type": "code",
   "execution_count": 11,
   "metadata": {},
   "outputs": [
    {
     "data": {
      "text/html": [
       "<div>\n",
       "<style scoped>\n",
       "    .dataframe tbody tr th:only-of-type {\n",
       "        vertical-align: middle;\n",
       "    }\n",
       "\n",
       "    .dataframe tbody tr th {\n",
       "        vertical-align: top;\n",
       "    }\n",
       "\n",
       "    .dataframe thead th {\n",
       "        text-align: right;\n",
       "    }\n",
       "</style>\n",
       "<table border=\"1\" class=\"dataframe\">\n",
       "  <thead>\n",
       "    <tr style=\"text-align: right;\">\n",
       "      <th></th>\n",
       "      <th>Apple</th>\n",
       "      <th>Google</th>\n",
       "      <th>Bank of America</th>\n",
       "    </tr>\n",
       "  </thead>\n",
       "  <tbody>\n",
       "    <tr>\n",
       "      <td>count</td>\n",
       "      <td>104.000000</td>\n",
       "      <td>104.000000</td>\n",
       "      <td>104.000000</td>\n",
       "    </tr>\n",
       "    <tr>\n",
       "      <td>mean</td>\n",
       "      <td>138.300096</td>\n",
       "      <td>871.647692</td>\n",
       "      <td>23.564712</td>\n",
       "    </tr>\n",
       "    <tr>\n",
       "      <td>std</td>\n",
       "      <td>11.207151</td>\n",
       "      <td>52.463368</td>\n",
       "      <td>0.881385</td>\n",
       "    </tr>\n",
       "    <tr>\n",
       "      <td>min</td>\n",
       "      <td>116.020000</td>\n",
       "      <td>807.770000</td>\n",
       "      <td>22.050000</td>\n",
       "    </tr>\n",
       "    <tr>\n",
       "      <td>25%</td>\n",
       "      <td>132.100000</td>\n",
       "      <td>838.847500</td>\n",
       "      <td>22.920000</td>\n",
       "    </tr>\n",
       "    <tr>\n",
       "      <td>50%</td>\n",
       "      <td>140.550000</td>\n",
       "      <td>849.860000</td>\n",
       "      <td>23.345000</td>\n",
       "    </tr>\n",
       "    <tr>\n",
       "      <td>75%</td>\n",
       "      <td>144.045000</td>\n",
       "      <td>888.915000</td>\n",
       "      <td>24.060000</td>\n",
       "    </tr>\n",
       "    <tr>\n",
       "      <td>max</td>\n",
       "      <td>156.100000</td>\n",
       "      <td>996.170000</td>\n",
       "      <td>25.500000</td>\n",
       "    </tr>\n",
       "  </tbody>\n",
       "</table>\n",
       "</div>"
      ],
      "text/plain": [
       "            Apple      Google  Bank of America\n",
       "count  104.000000  104.000000       104.000000\n",
       "mean   138.300096  871.647692        23.564712\n",
       "std     11.207151   52.463368         0.881385\n",
       "min    116.020000  807.770000        22.050000\n",
       "25%    132.100000  838.847500        22.920000\n",
       "50%    140.550000  849.860000        23.345000\n",
       "75%    144.045000  888.915000        24.060000\n",
       "max    156.100000  996.170000        25.500000"
      ]
     },
     "execution_count": 11,
     "metadata": {},
     "output_type": "execute_result"
    }
   ],
   "source": [
    "df_share_prices.describe()"
   ]
  },
  {
   "cell_type": "markdown",
   "metadata": {},
   "source": [
    "The graph it produced:"
   ]
  },
  {
   "cell_type": "code",
   "execution_count": 12,
   "metadata": {},
   "outputs": [
    {
     "data": {
      "image/png": "[encoded data removed]",
      "text/plain": [
       "<Figure size 432x288 with 1 Axes>"
      ]
     },
     "metadata": {
      "needs_background": "light"
     },
     "output_type": "display_data"
    }
   ],
   "source": [
    "plt.scatter(df_share_prices[\"Apple\"], df_share_prices[\"Google\"])\n",
    "plt.xlabel('Apple')\n",
    "plt.ylabel('Google');\n",
    "plt.show()"
   ]
  },
  {
   "cell_type": "markdown",
   "metadata": {},
   "source": [
    "The first graph represents the relationship between Apple's stock price and Google stock price. \n",
    "As for the relationship between them, as you probably anticipated, the two stocks are very highly correlated.\n",
    "When one is higher, the other is, too, and vice versa. "
   ]
  },
  {
   "cell_type": "code",
   "execution_count": 13,
   "metadata": {},
   "outputs": [
    {
     "data": {
      "image/png": "[encoded data removed]",
      "text/plain": [
       "<Figure size 432x288 with 1 Axes>"
      ]
     },
     "metadata": {
      "needs_background": "light"
     },
     "output_type": "display_data"
    }
   ],
   "source": [
    "plt.scatter(df_share_prices[\"Apple\"], df_share_prices[\"Bank of America\"])\n",
    "plt.xlabel('Apple')\n",
    "plt.ylabel('Bank of America');\n",
    "plt.show()"
   ]
  },
  {
   "cell_type": "markdown",
   "metadata": {},
   "source": [
    "The graph represents the relationship between Apple's stock price and Bank of America's stock price.\n",
    "We can clearly see, that when one stock is higher, this does not imply the same for the other.\n",
    "There is almost no correlation between the stock prices of Apple and Bank of America.\n",
    "When you observe a scatter plot, where the data points look like this (somewhat vertical),\n",
    "the two variables are not correlated."
   ]
  },
  {
   "cell_type": "code",
   "execution_count": null,
   "metadata": {},
   "outputs": [],
   "source": [
    "Reference : matplotlib.pyplot.scatter \n",
    "https://matplotlib.org/3.2.0/api/_as_gen/matplotlib.pyplot.scatter.html#matplotlib.pyplot.scatter"
   ]
  }
 ],
 "metadata": {
  "kernelspec": {
   "display_name": "Python 3",
   "language": "python",
   "name": "python3"
  },
  "language_info": {
   "codemirror_mode": {
    "name": "ipython",
    "version": 3
   },
   "file_extension": ".py",
   "mimetype": "text/x-python",
   "name": "python",
   "nbconvert_exporter": "python",
   "pygments_lexer": "ipython3",
   "version": "3.7.4"
  }
 },
 "nbformat": 4,
 "nbformat_minor": 2
}
